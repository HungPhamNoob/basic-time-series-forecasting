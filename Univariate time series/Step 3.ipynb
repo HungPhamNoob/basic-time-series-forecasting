{
 "cells": [
  {
   "cell_type": "markdown",
   "id": "1be73e85-0d51-40da-b32b-e6ee164cc293",
   "metadata": {},
   "source": [
    "# 🧪 Evaluation"
   ]
  },
  {
   "cell_type": "code",
   "execution_count": 34,
   "id": "c135af54-56ba-4856-8066-adcf2e28cd49",
   "metadata": {},
   "outputs": [],
   "source": [
    "from sklearn.metrics import classification_report, mean_squared_error, mean_absolute_error, r2_score"
   ]
  },
  {
   "cell_type": "code",
   "execution_count": 35,
   "id": "d56948f6-67a7-4487-9aeb-5fae13022191",
   "metadata": {},
   "outputs": [
    {
     "name": "stdout",
     "output_type": "stream",
     "text": [
      "MAE: 42.73265958191878\n",
      "MSE: 2701.6471812857662\n",
      "R2 Score: 0.5574327701990991\n"
     ]
    }
   ],
   "source": [
    "print(\"MAE: {}\".format(mean_absolute_error(y_test, y_pred))) # the smaller the better\n",
    "print(\"MSE: {}\".format(mean_squared_error(y_test, y_pred))) # the smaller the better\n",
    "print(\"R2 Score: {}\".format(r2_score(y_test, y_pred))) # good ~1, bad ~0"
   ]
  },
  {
   "cell_type": "markdown",
   "id": "36d962de-2410-4b10-ae3d-fa6c6872fb21",
   "metadata": {},
   "source": [
    "MAE (Mean Absolute Error): Shows the average absolute difference between predictions and actual values. Lower is better.\n",
    "\n",
    "MSE (Mean Squared Error): Penalizes larger errors more heavily. Lower is better.\n",
    "\n",
    "R² Score: Measures how well the model explains the variance in the data. R² = 1 means perfect fit, R² = 0 means no better than predicting the mean, and negative values mean worse than the mean baseline"
   ]
  }
 ],
 "metadata": {
  "kernelspec": {
   "display_name": "Python 3 (ipykernel)",
   "language": "python",
   "name": "python3"
  },
  "language_info": {
   "codemirror_mode": {
    "name": "ipython",
    "version": 3
   },
   "file_extension": ".py",
   "mimetype": "text/x-python",
   "name": "python",
   "nbconvert_exporter": "python",
   "pygments_lexer": "ipython3",
   "version": "3.12.4"
  }
 },
 "nbformat": 4,
 "nbformat_minor": 5
}
