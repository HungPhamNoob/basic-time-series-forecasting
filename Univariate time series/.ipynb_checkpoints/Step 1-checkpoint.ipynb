{
 "cells": [
  {
   "cell_type": "markdown",
   "id": "a1d6a54a-3cee-4108-82f1-3c68064e189e",
   "metadata": {},
   "source": [
    "# 📊 Data Processing and Visualization "
   ]
  },
  {
   "cell_type": "code",
   "execution_count": 155,
   "id": "923bd412-7f5f-4d1d-a415-eb872002356f",
   "metadata": {},
   "outputs": [],
   "source": [
    "import numpy as np\n",
    "import pandas as pd\n",
    "import seaborn as sns\n",
    "import pmdarima as pm\n",
    "import matplotlib.pyplot as plt\n",
    "import warnings\n",
    "warnings.filterwarnings(\"ignore\")"
   ]
  },
  {
   "cell_type": "markdown",
   "id": "9762f0d4-a9a4-475d-98d3-bb74db75930b",
   "metadata": {},
   "source": [
    "## Raw data processing"
   ]
  },
  {
   "cell_type": "code",
   "execution_count": 156,
   "id": "9b796c4f-35c9-483d-8c39-191b0616ab66",
   "metadata": {},
   "outputs": [
    {
     "data": {
      "text/html": [
       "<div>\n",
       "<style scoped>\n",
       "    .dataframe tbody tr th:only-of-type {\n",
       "        vertical-align: middle;\n",
       "    }\n",
       "\n",
       "    .dataframe tbody tr th {\n",
       "        vertical-align: top;\n",
       "    }\n",
       "\n",
       "    .dataframe thead th {\n",
       "        text-align: right;\n",
       "    }\n",
       "</style>\n",
       "<table border=\"1\" class=\"dataframe\">\n",
       "  <thead>\n",
       "    <tr style=\"text-align: right;\">\n",
       "      <th></th>\n",
       "      <th>Province/State</th>\n",
       "      <th>Country/Region</th>\n",
       "      <th>Lat</th>\n",
       "      <th>Long</th>\n",
       "      <th>1/22/20</th>\n",
       "      <th>1/23/20</th>\n",
       "      <th>1/24/20</th>\n",
       "      <th>1/25/20</th>\n",
       "      <th>1/26/20</th>\n",
       "      <th>1/27/20</th>\n",
       "      <th>...</th>\n",
       "      <th>5/20/21</th>\n",
       "      <th>5/21/21</th>\n",
       "      <th>5/22/21</th>\n",
       "      <th>5/23/21</th>\n",
       "      <th>5/24/21</th>\n",
       "      <th>5/25/21</th>\n",
       "      <th>5/26/21</th>\n",
       "      <th>5/27/21</th>\n",
       "      <th>5/28/21</th>\n",
       "      <th>5/29/21</th>\n",
       "    </tr>\n",
       "  </thead>\n",
       "  <tbody>\n",
       "    <tr>\n",
       "      <th>271</th>\n",
       "      <td>NaN</td>\n",
       "      <td>Vietnam</td>\n",
       "      <td>14.058324</td>\n",
       "      <td>108.277199</td>\n",
       "      <td>0</td>\n",
       "      <td>2</td>\n",
       "      <td>2</td>\n",
       "      <td>2</td>\n",
       "      <td>2</td>\n",
       "      <td>2</td>\n",
       "      <td>...</td>\n",
       "      <td>4809</td>\n",
       "      <td>4941</td>\n",
       "      <td>5119</td>\n",
       "      <td>5275</td>\n",
       "      <td>5404</td>\n",
       "      <td>5931</td>\n",
       "      <td>6086</td>\n",
       "      <td>6356</td>\n",
       "      <td>6396</td>\n",
       "      <td>6908</td>\n",
       "    </tr>\n",
       "  </tbody>\n",
       "</table>\n",
       "<p>1 rows × 498 columns</p>\n",
       "</div>"
      ],
      "text/plain": [
       "    Province/State Country/Region        Lat        Long  1/22/20  1/23/20  \\\n",
       "271            NaN        Vietnam  14.058324  108.277199        0        2   \n",
       "\n",
       "     1/24/20  1/25/20  1/26/20  1/27/20  ...  5/20/21  5/21/21  5/22/21  \\\n",
       "271        2        2        2        2  ...     4809     4941     5119   \n",
       "\n",
       "     5/23/21  5/24/21  5/25/21  5/26/21  5/27/21  5/28/21  5/29/21  \n",
       "271     5275     5404     5931     6086     6356     6396     6908  \n",
       "\n",
       "[1 rows x 498 columns]"
      ]
     },
     "execution_count": 156,
     "metadata": {},
     "output_type": "execute_result"
    }
   ],
   "source": [
    "# Select the Vietnam record from the global COVID-19 dataset\n",
    "df = pd.read_csv(\"../time_series_covid_19_confirmed.csv\")\n",
    "data = df[df.iloc[:, 1] == \"Vietnam\"]\n",
    "data.head(10)"
   ]
  },
  {
   "cell_type": "code",
   "execution_count": 157,
   "id": "8b87fa7e-6e5f-4c00-8ba5-33fdb7d22c91",
   "metadata": {},
   "outputs": [
    {
     "data": {
      "text/html": [
       "<div>\n",
       "<style scoped>\n",
       "    .dataframe tbody tr th:only-of-type {\n",
       "        vertical-align: middle;\n",
       "    }\n",
       "\n",
       "    .dataframe tbody tr th {\n",
       "        vertical-align: top;\n",
       "    }\n",
       "\n",
       "    .dataframe thead th {\n",
       "        text-align: right;\n",
       "    }\n",
       "</style>\n",
       "<table border=\"1\" class=\"dataframe\">\n",
       "  <thead>\n",
       "    <tr style=\"text-align: right;\">\n",
       "      <th></th>\n",
       "      <th>Province/State</th>\n",
       "      <th>Country/Region</th>\n",
       "      <th>Lat</th>\n",
       "      <th>Long</th>\n",
       "      <th>Date</th>\n",
       "      <th>Cases</th>\n",
       "    </tr>\n",
       "  </thead>\n",
       "  <tbody>\n",
       "    <tr>\n",
       "      <th>0</th>\n",
       "      <td>NaN</td>\n",
       "      <td>Vietnam</td>\n",
       "      <td>14.058324</td>\n",
       "      <td>108.277199</td>\n",
       "      <td>1/22/20</td>\n",
       "      <td>0</td>\n",
       "    </tr>\n",
       "    <tr>\n",
       "      <th>1</th>\n",
       "      <td>NaN</td>\n",
       "      <td>Vietnam</td>\n",
       "      <td>14.058324</td>\n",
       "      <td>108.277199</td>\n",
       "      <td>1/23/20</td>\n",
       "      <td>2</td>\n",
       "    </tr>\n",
       "    <tr>\n",
       "      <th>2</th>\n",
       "      <td>NaN</td>\n",
       "      <td>Vietnam</td>\n",
       "      <td>14.058324</td>\n",
       "      <td>108.277199</td>\n",
       "      <td>1/24/20</td>\n",
       "      <td>2</td>\n",
       "    </tr>\n",
       "    <tr>\n",
       "      <th>3</th>\n",
       "      <td>NaN</td>\n",
       "      <td>Vietnam</td>\n",
       "      <td>14.058324</td>\n",
       "      <td>108.277199</td>\n",
       "      <td>1/25/20</td>\n",
       "      <td>2</td>\n",
       "    </tr>\n",
       "    <tr>\n",
       "      <th>4</th>\n",
       "      <td>NaN</td>\n",
       "      <td>Vietnam</td>\n",
       "      <td>14.058324</td>\n",
       "      <td>108.277199</td>\n",
       "      <td>1/26/20</td>\n",
       "      <td>2</td>\n",
       "    </tr>\n",
       "    <tr>\n",
       "      <th>5</th>\n",
       "      <td>NaN</td>\n",
       "      <td>Vietnam</td>\n",
       "      <td>14.058324</td>\n",
       "      <td>108.277199</td>\n",
       "      <td>1/27/20</td>\n",
       "      <td>2</td>\n",
       "    </tr>\n",
       "    <tr>\n",
       "      <th>6</th>\n",
       "      <td>NaN</td>\n",
       "      <td>Vietnam</td>\n",
       "      <td>14.058324</td>\n",
       "      <td>108.277199</td>\n",
       "      <td>1/28/20</td>\n",
       "      <td>2</td>\n",
       "    </tr>\n",
       "    <tr>\n",
       "      <th>7</th>\n",
       "      <td>NaN</td>\n",
       "      <td>Vietnam</td>\n",
       "      <td>14.058324</td>\n",
       "      <td>108.277199</td>\n",
       "      <td>1/29/20</td>\n",
       "      <td>2</td>\n",
       "    </tr>\n",
       "    <tr>\n",
       "      <th>8</th>\n",
       "      <td>NaN</td>\n",
       "      <td>Vietnam</td>\n",
       "      <td>14.058324</td>\n",
       "      <td>108.277199</td>\n",
       "      <td>1/30/20</td>\n",
       "      <td>2</td>\n",
       "    </tr>\n",
       "    <tr>\n",
       "      <th>9</th>\n",
       "      <td>NaN</td>\n",
       "      <td>Vietnam</td>\n",
       "      <td>14.058324</td>\n",
       "      <td>108.277199</td>\n",
       "      <td>1/31/20</td>\n",
       "      <td>2</td>\n",
       "    </tr>\n",
       "  </tbody>\n",
       "</table>\n",
       "</div>"
      ],
      "text/plain": [
       "  Province/State Country/Region        Lat        Long     Date  Cases\n",
       "0            NaN        Vietnam  14.058324  108.277199  1/22/20      0\n",
       "1            NaN        Vietnam  14.058324  108.277199  1/23/20      2\n",
       "2            NaN        Vietnam  14.058324  108.277199  1/24/20      2\n",
       "3            NaN        Vietnam  14.058324  108.277199  1/25/20      2\n",
       "4            NaN        Vietnam  14.058324  108.277199  1/26/20      2\n",
       "5            NaN        Vietnam  14.058324  108.277199  1/27/20      2\n",
       "6            NaN        Vietnam  14.058324  108.277199  1/28/20      2\n",
       "7            NaN        Vietnam  14.058324  108.277199  1/29/20      2\n",
       "8            NaN        Vietnam  14.058324  108.277199  1/30/20      2\n",
       "9            NaN        Vietnam  14.058324  108.277199  1/31/20      2"
      ]
     },
     "execution_count": 157,
     "metadata": {},
     "output_type": "execute_result"
    }
   ],
   "source": [
    "# Reshaping data (rows to columns)\n",
    "data = data.melt(\n",
    "    id_vars=[\"Province/State\", \"Country/Region\", \"Lat\", \"Long\"],\n",
    "    var_name=\"Date\",\n",
    "    value_name=\"Cases\"\n",
    ")\n",
    "data.head(10)"
   ]
  },
  {
   "cell_type": "code",
   "execution_count": 158,
   "id": "46a90c9a-94d5-4ab1-861c-408f68e0a9ae",
   "metadata": {},
   "outputs": [
    {
     "data": {
      "text/html": [
       "<div>\n",
       "<style scoped>\n",
       "    .dataframe tbody tr th:only-of-type {\n",
       "        vertical-align: middle;\n",
       "    }\n",
       "\n",
       "    .dataframe tbody tr th {\n",
       "        vertical-align: top;\n",
       "    }\n",
       "\n",
       "    .dataframe thead th {\n",
       "        text-align: right;\n",
       "    }\n",
       "</style>\n",
       "<table border=\"1\" class=\"dataframe\">\n",
       "  <thead>\n",
       "    <tr style=\"text-align: right;\">\n",
       "      <th></th>\n",
       "      <th>Date</th>\n",
       "      <th>Cases</th>\n",
       "    </tr>\n",
       "  </thead>\n",
       "  <tbody>\n",
       "    <tr>\n",
       "      <th>0</th>\n",
       "      <td>1/22/20</td>\n",
       "      <td>0</td>\n",
       "    </tr>\n",
       "    <tr>\n",
       "      <th>1</th>\n",
       "      <td>1/23/20</td>\n",
       "      <td>2</td>\n",
       "    </tr>\n",
       "    <tr>\n",
       "      <th>2</th>\n",
       "      <td>1/24/20</td>\n",
       "      <td>2</td>\n",
       "    </tr>\n",
       "    <tr>\n",
       "      <th>3</th>\n",
       "      <td>1/25/20</td>\n",
       "      <td>2</td>\n",
       "    </tr>\n",
       "    <tr>\n",
       "      <th>4</th>\n",
       "      <td>1/26/20</td>\n",
       "      <td>2</td>\n",
       "    </tr>\n",
       "    <tr>\n",
       "      <th>5</th>\n",
       "      <td>1/27/20</td>\n",
       "      <td>2</td>\n",
       "    </tr>\n",
       "    <tr>\n",
       "      <th>6</th>\n",
       "      <td>1/28/20</td>\n",
       "      <td>2</td>\n",
       "    </tr>\n",
       "    <tr>\n",
       "      <th>7</th>\n",
       "      <td>1/29/20</td>\n",
       "      <td>2</td>\n",
       "    </tr>\n",
       "    <tr>\n",
       "      <th>8</th>\n",
       "      <td>1/30/20</td>\n",
       "      <td>2</td>\n",
       "    </tr>\n",
       "    <tr>\n",
       "      <th>9</th>\n",
       "      <td>1/31/20</td>\n",
       "      <td>2</td>\n",
       "    </tr>\n",
       "  </tbody>\n",
       "</table>\n",
       "</div>"
      ],
      "text/plain": [
       "      Date  Cases\n",
       "0  1/22/20      0\n",
       "1  1/23/20      2\n",
       "2  1/24/20      2\n",
       "3  1/25/20      2\n",
       "4  1/26/20      2\n",
       "5  1/27/20      2\n",
       "6  1/28/20      2\n",
       "7  1/29/20      2\n",
       "8  1/30/20      2\n",
       "9  1/31/20      2"
      ]
     },
     "execution_count": 158,
     "metadata": {},
     "output_type": "execute_result"
    }
   ],
   "source": [
    "# Feature selection\n",
    "data = data[[\"Date\", \"Cases\"]]\n",
    "data.head(10)"
   ]
  },
  {
   "cell_type": "code",
   "execution_count": 159,
   "id": "928262fd-3bec-41a1-b4af-83905b3fae0c",
   "metadata": {},
   "outputs": [],
   "source": [
    "# Handling missing values\n",
    "data[\"Cases\"] = data[\"Cases\"].interpolate()"
   ]
  },
  {
   "cell_type": "code",
   "execution_count": 160,
   "id": "2c04b0ab-d89e-4e15-b5ed-20a768c23c71",
   "metadata": {},
   "outputs": [
    {
     "data": {
      "image/png": "[encoded data removed]",
      "text/plain": [
       "<Figure size 900x600 with 1 Axes>"
      ]
     },
     "metadata": {},
     "output_type": "display_data"
    }
   ],
   "source": [
    "# Visualization\n",
    "fig, ax = plt.subplots(figsize=(9, 6))\n",
    "ax.plot(data[\"Date\"], data[\"Cases\"], label=\"Daily confirmed COVID-19 cases in Vietnam\")\n",
    "ax.set_xticks(data[\"Date\"][::55])\n",
    "ax.set_xlabel(\"Date\")\n",
    "ax.set_ylabel(\"Cases\")\n",
    "ax.set_title(\"COVID-19 Daily Confirmed Cases in Vietnam\", fontsize=12, fontweight=\"bold\")\n",
    "plt.show()"
   ]
  },
  {
   "cell_type": "markdown",
   "id": "c8bb05bb-72e9-4c90-b854-c23c0fe5510f",
   "metadata": {},
   "source": [
    "Note: This time series is non-stationary, which means its statistical properties (such as mean and variance) change over time. Therefore, it must be transformed into a stationary series before building forecasting models."
   ]
  },
  {
   "cell_type": "markdown",
   "id": "8e7638d1-5c11-4192-8bc2-27f3a04fcc9a",
   "metadata": {},
   "source": [
    "## Train-Test Split"
   ]
  },
  {
   "cell_type": "code",
   "execution_count": 161,
   "id": "29a3ae51-7698-4b46-b210-01dd6fe925bc",
   "metadata": {},
   "outputs": [],
   "source": [
    "# Set the ratio for training set\n",
    "train_ratio = 0. # 80% for training, validation and 20% for testing\n",
    "\n",
    "# Get the total number of samples\n",
    "num_samples = len(y)\n",
    "\n",
    "# Split the series into training and testing sets\n",
    "y_train = data[:int(num_samples * train_ratio)]\n",
    "y_test = data[int(num_samples * train_ratio):]"
   ]
  },
  {
   "cell_type": "markdown",
   "id": "3ffb78c0-dade-4447-a143-e3d2805aa6cf",
   "metadata": {},
   "source": [
    "## Differencing"
   ]
  },
  {
   "cell_type": "code",
   "execution_count": 162,
   "id": "591b4427-471a-4cef-9c49-d4a51a909af9",
   "metadata": {},
   "outputs": [
    {
     "name": "stdout",
     "output_type": "stream",
     "text": [
      "Number of differences required according to ADF: 1\n"
     ]
    }
   ],
   "source": [
    "# Estimate the optimal number of differences for the \"Cases\" column\n",
    "d_adf = pm.arima.ndiffs(y_train[\"Cases\"], test='adf')   # Augmented Dickey-Fuller\n",
    "print(f\"Number of differences required according to ADF: {d_adf}\")"
   ]
  },
  {
   "cell_type": "code",
   "execution_count": 163,
   "id": "23bcf10a-0444-49bd-a893-f2929d8454b9",
   "metadata": {},
   "outputs": [],
   "source": [
    "# Second-order differencing\n",
    "y_train[\"Cases_diff2\"] = y_train[\"Cases\"].diff().diff()"
   ]
  },
  {
   "cell_type": "code",
   "execution_count": 164,
   "id": "6c8e45d1-8e54-4296-9caa-6b435fa3199a",
   "metadata": {},
   "outputs": [
    {
     "data": {
      "text/html": [
       "<div>\n",
       "<style scoped>\n",
       "    .dataframe tbody tr th:only-of-type {\n",
       "        vertical-align: middle;\n",
       "    }\n",
       "\n",
       "    .dataframe tbody tr th {\n",
       "        vertical-align: top;\n",
       "    }\n",
       "\n",
       "    .dataframe thead th {\n",
       "        text-align: right;\n",
       "    }\n",
       "</style>\n",
       "<table border=\"1\" class=\"dataframe\">\n",
       "  <thead>\n",
       "    <tr style=\"text-align: right;\">\n",
       "      <th></th>\n",
       "      <th>Date</th>\n",
       "      <th>Cases</th>\n",
       "    </tr>\n",
       "  </thead>\n",
       "  <tbody>\n",
       "    <tr>\n",
       "      <th>0</th>\n",
       "      <td>1/22/20</td>\n",
       "      <td>0</td>\n",
       "    </tr>\n",
       "    <tr>\n",
       "      <th>1</th>\n",
       "      <td>1/23/20</td>\n",
       "      <td>2</td>\n",
       "    </tr>\n",
       "    <tr>\n",
       "      <th>2</th>\n",
       "      <td>1/24/20</td>\n",
       "      <td>2</td>\n",
       "    </tr>\n",
       "    <tr>\n",
       "      <th>3</th>\n",
       "      <td>1/25/20</td>\n",
       "      <td>2</td>\n",
       "    </tr>\n",
       "    <tr>\n",
       "      <th>4</th>\n",
       "      <td>1/26/20</td>\n",
       "      <td>2</td>\n",
       "    </tr>\n",
       "    <tr>\n",
       "      <th>...</th>\n",
       "      <td>...</td>\n",
       "      <td>...</td>\n",
       "    </tr>\n",
       "    <tr>\n",
       "      <th>489</th>\n",
       "      <td>5/25/21</td>\n",
       "      <td>5931</td>\n",
       "    </tr>\n",
       "    <tr>\n",
       "      <th>490</th>\n",
       "      <td>5/26/21</td>\n",
       "      <td>6086</td>\n",
       "    </tr>\n",
       "    <tr>\n",
       "      <th>491</th>\n",
       "      <td>5/27/21</td>\n",
       "      <td>6356</td>\n",
       "    </tr>\n",
       "    <tr>\n",
       "      <th>492</th>\n",
       "      <td>5/28/21</td>\n",
       "      <td>6396</td>\n",
       "    </tr>\n",
       "    <tr>\n",
       "      <th>493</th>\n",
       "      <td>5/29/21</td>\n",
       "      <td>6908</td>\n",
       "    </tr>\n",
       "  </tbody>\n",
       "</table>\n",
       "<p>494 rows × 2 columns</p>\n",
       "</div>"
      ],
      "text/plain": [
       "        Date  Cases\n",
       "0    1/22/20      0\n",
       "1    1/23/20      2\n",
       "2    1/24/20      2\n",
       "3    1/25/20      2\n",
       "4    1/26/20      2\n",
       "..       ...    ...\n",
       "489  5/25/21   5931\n",
       "490  5/26/21   6086\n",
       "491  5/27/21   6356\n",
       "492  5/28/21   6396\n",
       "493  5/29/21   6908\n",
       "\n",
       "[494 rows x 2 columns]"
      ]
     },
     "execution_count": 164,
     "metadata": {},
     "output_type": "execute_result"
    }
   ],
   "source": [
    "data"
   ]
  },
  {
   "cell_type": "code",
   "execution_count": 165,
   "id": "ed6775c6-c18a-46b3-b4b2-7d31bf77830f",
   "metadata": {},
   "outputs": [
    {
     "data": {
      "image/png": "[encoded data removed]",
      "text/plain": [
       "<Figure size 900x600 with 1 Axes>"
      ]
     },
     "metadata": {},
     "output_type": "display_data"
    }
   ],
   "source": [
    "# Plot the original and differenced series\n",
    "fig, ax = plt.subplots(figsize=(9,6))\n",
    "\n",
    "ax.plot(y_train[\"Date\"], y_train[\"Cases\"], label=\"Original series\")\n",
    "ax.plot(y_train[\"Date\"], y_train[\"Cases_diff2\"], label=\"2nd difference\")\n",
    "ax.set_xticks(y_train[\"Date\"][::55])\n",
    "ax.set_xlabel(\"Date\")\n",
    "ax.set_ylabel(\"Cases\")\n",
    "ax.set_title(\"Original vs 1st Difference vs 2nd Difference\", fontsize=12, fontweight=\"bold\")\n",
    "ax.legend()\n",
    "plt.show()"
   ]
  },
  {
   "cell_type": "code",
   "execution_count": null,
   "id": "be1a7347-fbd8-4040-97ec-c7374ae68e33",
   "metadata": {},
   "outputs": [],
   "source": []
  }
 ],
 "metadata": {
  "kernelspec": {
   "display_name": "Python 3 (ipykernel)",
   "language": "python",
   "name": "python3"
  },
  "language_info": {
   "codemirror_mode": {
    "name": "ipython",
    "version": 3
   },
   "file_extension": ".py",
   "mimetype": "text/x-python",
   "name": "python",
   "nbconvert_exporter": "python",
   "pygments_lexer": "ipython3",
   "version": "3.12.4"
  }
 },
 "nbformat": 4,
 "nbformat_minor": 5
}
