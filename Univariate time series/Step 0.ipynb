{
 "cells": [
  {
   "cell_type": "markdown",
   "id": "fbda85a0-4b10-49f6-a4f1-91e6dc2954f4",
   "metadata": {},
   "source": [
    "# 🛠 Set Up"
   ]
  },
  {
   "cell_type": "code",
   "execution_count": 1,
   "id": "b2f50e68-d396-449f-9376-bb1ddc9c63f6",
   "metadata": {},
   "outputs": [],
   "source": [
    "file = \"AirPassengers.csv\"\n",
    "target = \"passengers\"\n",
    "name_of_plot = \"Number of air passengers over years\"\n",
    "target_name_for_plot = \"Air Passengers\""
   ]
  },
  {
   "cell_type": "code",
   "execution_count": null,
   "id": "b13b6ff8-fb52-4266-a703-14599351b0c4",
   "metadata": {},
   "outputs": [],
   "source": []
  }
 ],
 "metadata": {
  "kernelspec": {
   "display_name": "Python 3 (ipykernel)",
   "language": "python",
   "name": "python3"
  },
  "language_info": {
   "codemirror_mode": {
    "name": "ipython",
    "version": 3
   },
   "file_extension": ".py",
   "mimetype": "text/x-python",
   "name": "python",
   "nbconvert_exporter": "python",
   "pygments_lexer": "ipython3",
   "version": "3.12.4"
  }
 },
 "nbformat": 4,
 "nbformat_minor": 5
}
