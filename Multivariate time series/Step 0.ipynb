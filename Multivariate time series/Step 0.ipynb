{
 "cells": [
  {
   "cell_type": "markdown",
   "id": "aaeee0b7-cdbc-404d-ac03-a0ddb3f44e19",
   "metadata": {},
   "source": [
    "# 🛠 Set Up"
   ]
  },
  {
   "cell_type": "code",
   "execution_count": 1,
   "id": "1ea94105-23f6-41ac-b3bb-a699f7b5d8c8",
   "metadata": {},
   "outputs": [],
   "source": [
    "file = \"DailyDelhiClimate.csv\"\n",
    "target = ['meantemp', 'humidity', 'wind_speed', 'meanpressure']\n",
    "name_of_plot = \"Delhi Climate Variables over Time\"\n",
    "target_name_for_plot = \"Values\""
   ]
  },
  {
   "cell_type": "code",
   "execution_count": null,
   "id": "a4520288-4981-4f58-81de-7c99a6485c20",
   "metadata": {},
   "outputs": [],
   "source": []
  }
 ],
 "metadata": {
  "kernelspec": {
   "display_name": "Python 3 (ipykernel)",
   "language": "python",
   "name": "python3"
  },
  "language_info": {
   "codemirror_mode": {
    "name": "ipython",
    "version": 3
   },
   "file_extension": ".py",
   "mimetype": "text/x-python",
   "name": "python",
   "nbconvert_exporter": "python",
   "pygments_lexer": "ipython3",
   "version": "3.12.4"
  }
 },
 "nbformat": 4,
 "nbformat_minor": 5
}
