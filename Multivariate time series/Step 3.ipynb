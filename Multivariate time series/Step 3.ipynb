{
 "cells": [
  {
   "cell_type": "markdown",
   "id": "935bb59d-d6b0-439b-affa-c09571e6af6a",
   "metadata": {},
   "source": [
    "# 🧪 Evaluation"
   ]
  },
  {
   "cell_type": "code",
   "execution_count": 48,
   "id": "c9aed73d-7ae4-43d6-b3bc-1ebdb166ba99",
   "metadata": {},
   "outputs": [],
   "source": [
    "from sklearn.metrics import mean_absolute_error, mean_squared_error, r2_score\n",
    "from scipy.stats import pearsonr"
   ]
  },
  {
   "cell_type": "code",
   "execution_count": 51,
   "id": "25596ffe-3615-458a-b1cb-a407966e5339",
   "metadata": {},
   "outputs": [
    {
     "name": "stdout",
     "output_type": "stream",
     "text": [
      "\n",
      "📊 meantemp:\n",
      "   MAE: 7.4027\n",
      "   MSE: 67.4982\n",
      "   R2: -1.1084\n",
      "\n",
      "📊 humidity:\n",
      "   MAE: 14.5319\n",
      "   MSE: 341.4012\n",
      "   R2: -0.1801\n",
      "\n",
      "📊 wind_speed:\n",
      "   MAE: 3.1940\n",
      "   MSE: 17.1388\n",
      "   R2: -0.0561\n",
      "\n",
      "📊 meanpressure:\n",
      "   MAE: 42.3338\n",
      "   MSE: 161690.7236\n",
      "   R2: -0.0004\n"
     ]
    }
   ],
   "source": [
    "from sklearn.metrics import mean_absolute_error, mean_squared_error, r2_score\n",
    "import numpy as np\n",
    "\n",
    "def evaluate_forecast(y_true, y_pred):\n",
    "    metrics = {}\n",
    "    \n",
    "    metrics['MAE'] = mean_absolute_error(y_true, y_pred)\n",
    "    metrics['MSE'] = mean_squared_error(y_true, y_pred)\n",
    "    metrics['R2'] = r2_score(y_true, y_pred)\n",
    "    \n",
    "    return metrics\n",
    "\n",
    "# Sử dụng cho từng biến\n",
    "for col in target:\n",
    "    actual = test_forecast_period[col]\n",
    "    predicted = final_forecast_df[col]\n",
    "    \n",
    "    scores = evaluate_forecast(actual, predicted)\n",
    "    print(f\"\\n📊 {col}:\")\n",
    "    for metric, value in scores.items():\n",
    "        print(f\"   {metric}: {value:.4f}\")"
   ]
  }
 ],
 "metadata": {
  "kernelspec": {
   "display_name": "Python 3 (ipykernel)",
   "language": "python",
   "name": "python3"
  },
  "language_info": {
   "codemirror_mode": {
    "name": "ipython",
    "version": 3
   },
   "file_extension": ".py",
   "mimetype": "text/x-python",
   "name": "python",
   "nbconvert_exporter": "python",
   "pygments_lexer": "ipython3",
   "version": "3.12.4"
  }
 },
 "nbformat": 4,
 "nbformat_minor": 5
}
